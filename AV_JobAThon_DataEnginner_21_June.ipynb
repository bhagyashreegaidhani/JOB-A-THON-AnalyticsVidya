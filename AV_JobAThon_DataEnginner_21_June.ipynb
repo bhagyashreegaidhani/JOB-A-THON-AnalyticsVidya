#Marketplace Feature Table Your Client ComZ is an ecommerce company. The company wants to focus on targeting the right customers with the right products to increase overall revenue and conversion rate.
#To target the right customers with the right products, they need to build an ML model for marketing based on user interaction with products in the past like number of views, most viewed product, number of activities of user, vintage of user and others.
#ComZ has contacted the Data Science and Engineering team to use this information to fuel the personalized advertisements, email marketing campaigns, or special offers on the landing and category pages of the company's website.
#You, being a part of the data engineering team, are expected to “Develop input features” for the efficient marketing model given the Visitor log data and User Data.
{
 "cells": [
  {
   "cell_type": "markdown",
   "metadata": {},
   "source": [
    "##### Importing all libraries"
   ]
  },
  {
   "cell_type": "code",
   "execution_count": 62,
   "metadata": {},
   "outputs": [],
   "source": [
    "import pandas as pd\n",
    "import numpy as np\n",
    "from datetime import datetime\n",
    "from collections import Counter\n",
    "import warnings\n",
    "warnings.filterwarnings(\"ignore\")"
   ]
  },
  {
   "cell_type": "markdown",
   "metadata": {},
   "source": [
    "##### Reading User & visitor Log data"
   ]
  },
  {
   "cell_type": "code",
   "execution_count": 287,
   "metadata": {},
   "outputs": [
    {
     "name": "stdout",
     "output_type": "stream",
     "text": [
      "File does exist\n"
     ]
    }
   ],
   "source": [
    "try:\n",
    "    User=pd.read_csv(\"data/UserTable1.csv\")\n",
    "    Visitor=pd.read_csv(\"data/VisitorLogsData.csv\")\n",
    "except FileNotFoundError:\n",
    "    print(\"File does exist\")\n"
   ]
  },
  {
   "cell_type": "code",
   "execution_count": 145,
   "metadata": {},
   "outputs": [
    {
     "name": "stdout",
     "output_type": "stream",
     "text": [
      "Size of VisitorLogsData (6588000, 9)\n",
      "Size of userTable (34050, 3)\n"
     ]
    }
   ],
   "source": [
    "print('Size of VisitorLogsData',Visitor.shape)\n",
    "print('Size of userTable',User.shape)"
   ]
  },
  {
   "cell_type": "code",
   "execution_count": 146,
   "metadata": {},
   "outputs": [],
   "source": [
    "MergeUserVisitor=pd.merge(Visitor,User,on='UserID')"
   ]
  },
  {
   "cell_type": "code",
   "execution_count": 147,
   "metadata": {},
   "outputs": [
    {
     "data": {
      "text/plain": [
       "Index(['webClientID', 'VisitDateTime', 'ProductID', 'UserID', 'Activity',\n",
       "       'Browser', 'OS', 'City', 'Country', 'Signup Date', 'User Segment'],\n",
       "      dtype='object')"
      ]
     },
     "execution_count": 147,
     "metadata": {},
     "output_type": "execute_result"
    }
   ],
   "source": [
    "MergeUserVisitor.columns"
   ]
  },
  {
   "cell_type": "code",
   "execution_count": 148,
   "metadata": {},
   "outputs": [],
   "source": [
    "MergeUserVisitor.drop(['Browser','City','Country','User Segment'],axis=1,inplace=True)"
   ]
  },
  {
   "cell_type": "code",
   "execution_count": 149,
   "metadata": {},
   "outputs": [
    {
     "data": {
      "text/plain": [
       "((650695, 7), 34050)"
      ]
     },
     "execution_count": 149,
     "metadata": {},
     "output_type": "execute_result"
    }
   ],
   "source": [
    "MergeUserVisitor.shape,MergeUserVisitor['UserID'].nunique()"
   ]
  },
  {
   "cell_type": "code",
   "execution_count": 280,
   "metadata": {},
   "outputs": [
    {
     "data": {
      "text/plain": [
       "webClientID          0\n",
       "VisitDateTime    64803\n",
       "ProductID        51963\n",
       "UserID               0\n",
       "Activity         87757\n",
       "OS                   0\n",
       "Signup Date          0\n",
       "NewVisit         64803\n",
       "dtype: int64"
      ]
     },
     "execution_count": 280,
     "metadata": {},
     "output_type": "execute_result"
    }
   ],
   "source": [
    "MergeUserVisitor.isna().sum()"
   ]
  },
  {
   "cell_type": "markdown",
   "metadata": {},
   "source": [
    "##### Data Preprocessing"
   ]
  },
  {
   "cell_type": "code",
   "execution_count": 150,
   "metadata": {},
   "outputs": [],
   "source": [
    "datev=[]\n",
    "# %%time\n",
    "for i in MergeUserVisitor['VisitDateTime']:\n",
    "    try:\n",
    "        ts = int(int(i)/1000000/1000)\n",
    "        dd=datetime.utcfromtimestamp(ts).strftime('%Y-%m-%d %H:%M:%S')\n",
    "        datev.append(dd)\n",
    "    except:\n",
    "        datev.append(i)   "
   ]
  },
  {
   "cell_type": "code",
   "execution_count": 151,
   "metadata": {},
   "outputs": [],
   "source": [
    "MergeUserVisitor['NewVisit']=datev\n",
    "MergeUserVisitor['NewVisit']=pd.to_datetime(MergeUserVisitor['NewVisit'])"
   ]
  },
  {
   "cell_type": "code",
   "execution_count": 152,
   "metadata": {},
   "outputs": [
    {
     "data": {
      "text/plain": [
       "webClientID      False\n",
       "VisitDateTime     True\n",
       "ProductID         True\n",
       "UserID           False\n",
       "Activity          True\n",
       "OS               False\n",
       "Signup Date      False\n",
       "NewVisit          True\n",
       "dtype: bool"
      ]
     },
     "execution_count": 152,
     "metadata": {},
     "output_type": "execute_result"
    }
   ],
   "source": [
    "MergeUserVisitor.isnull().any()"
   ]
  },
  {
   "cell_type": "markdown",
   "metadata": {},
   "source": [
    "##### Missing value Imputation"
   ]
  },
  {
   "cell_type": "code",
   "execution_count": 153,
   "metadata": {},
   "outputs": [],
   "source": [
    "data = MergeUserVisitor.fillna(method='ffill').fillna(method='bfill')"
   ]
  },
  {
   "cell_type": "code",
   "execution_count": 154,
   "metadata": {},
   "outputs": [
    {
     "data": {
      "text/plain": [
       "webClientID      0\n",
       "VisitDateTime    0\n",
       "ProductID        0\n",
       "UserID           0\n",
       "Activity         0\n",
       "OS               0\n",
       "Signup Date      0\n",
       "NewVisit         0\n",
       "dtype: int64"
      ]
     },
     "execution_count": 154,
     "metadata": {},
     "output_type": "execute_result"
    }
   ],
   "source": [
    "data.isnull().sum()"
   ]
  },
  {
   "cell_type": "code",
   "execution_count": 155,
   "metadata": {},
   "outputs": [],
   "source": [
    "#change strings to lower case for uniformity\n",
    "data['Activity'] = data['Activity'].str.lower()\n",
    "data['OS'] = data['OS'].str.lower()\n",
    "data['ProductID'] = data['ProductID'].str.lower()"
   ]
  },
  {
   "cell_type": "code",
   "execution_count": 156,
   "metadata": {},
   "outputs": [],
   "source": [
    "lastdayfrom = pd.to_datetime('5/28/2018') # end of the record"
   ]
  },
  {
   "cell_type": "code",
   "execution_count": 157,
   "metadata": {},
   "outputs": [],
   "source": [
    "data['Signup Date']=pd.to_datetime(data['Signup Date'])\n",
    "data['Signup Date']=data['Signup Date'].dt.date\n",
    "data['Signup Date']=pd.to_datetime(data['Signup Date'])"
   ]
  },
  {
   "cell_type": "markdown",
   "metadata": {},
   "source": [
    "##### Extract Input Features\n",
    "#### No_of_days_Visited_7_Days\n",
    "How many days a user was active on platform in the last 7 days."
   ]
  },
  {
   "cell_type": "code",
   "execution_count": 158,
   "metadata": {},
   "outputs": [],
   "source": [
    "#dataframe for last 7days data\n",
    "\n",
    "last_seven_days = data[data['NewVisit'] >= (pd.to_datetime(lastdayfrom) - pd.Timedelta(days=7))]"
   ]
  },
  {
   "cell_type": "code",
   "execution_count": 159,
   "metadata": {},
   "outputs": [
    {
     "data": {
      "text/plain": [
       "(Timestamp('2018-05-27 23:59:23.729000'),\n",
       " Timestamp('2018-05-21 00:00:03.968000'))"
      ]
     },
     "execution_count": 159,
     "metadata": {},
     "output_type": "execute_result"
    }
   ],
   "source": [
    "last_seven_days['NewVisit'].max(),last_seven_days['NewVisit'].min()"
   ]
  },
  {
   "cell_type": "code",
   "execution_count": 160,
   "metadata": {},
   "outputs": [
    {
     "data": {
      "text/plain": [
       "(236267, 8)"
      ]
     },
     "execution_count": 160,
     "metadata": {},
     "output_type": "execute_result"
    }
   ],
   "source": [
    "last_seven_days.shape"
   ]
  },
  {
   "cell_type": "code",
   "execution_count": 161,
   "metadata": {},
   "outputs": [
    {
     "data": {
      "text/plain": [
       "16870"
      ]
     },
     "execution_count": 161,
     "metadata": {},
     "output_type": "execute_result"
    }
   ],
   "source": [
    "last_seven_days['UserID'].nunique()"
   ]
  },
  {
   "cell_type": "code",
   "execution_count": 162,
   "metadata": {},
   "outputs": [],
   "source": [
    "NumberOfDaysVisited7=last_seven_days.groupby('UserID')['NewVisit'].nunique().reset_index()\n",
    "NumberOfDaysVisited7.rename(columns={'NewVisit':'No_of_days_Visited_7_Days'},inplace=True)"
   ]
  },
  {
   "cell_type": "code",
   "execution_count": 163,
   "metadata": {},
   "outputs": [],
   "source": [
    "submission=pd.DataFrame()"
   ]
  },
  {
   "cell_type": "code",
   "execution_count": 164,
   "metadata": {},
   "outputs": [
    {
     "data": {
      "text/plain": [
       "34050"
      ]
     },
     "execution_count": 164,
     "metadata": {},
     "output_type": "execute_result"
    }
   ],
   "source": [
    "len(data['UserID'].unique())"
   ]
  },
  {
   "cell_type": "code",
   "execution_count": 165,
   "metadata": {},
   "outputs": [],
   "source": [
    "submission['UserID']=data['UserID'].unique()"
   ]
  },
  {
   "cell_type": "code",
   "execution_count": 166,
   "metadata": {},
   "outputs": [],
   "source": [
    "No_of_days_Visited_7_Daysdic=dict(zip(NumberOfDaysVisited7['UserID'],\n",
    "                                      NumberOfDaysVisited7['No_of_days_Visited_7_Days']))"
   ]
  },
  {
   "cell_type": "code",
   "execution_count": 167,
   "metadata": {},
   "outputs": [],
   "source": [
    "submission['No_of_days_Visited_7_Days']=submission['UserID'].map(No_of_days_Visited_7_Daysdic)"
   ]
  },
  {
   "cell_type": "code",
   "execution_count": 168,
   "metadata": {},
   "outputs": [],
   "source": [
    "submission['No_of_days_Visited_7_Days'].fillna(0,inplace=True)"
   ]
  },
  {
   "cell_type": "markdown",
   "metadata": {},
   "source": [
    "##### No_Of_Products_Viewed_15_Days\n",
    "Number of Products viewed by the user in the last 15 days"
   ]
  },
  {
   "cell_type": "code",
   "execution_count": 169,
   "metadata": {},
   "outputs": [],
   "source": [
    "last15=data[data[\"NewVisit\"] >= (pd.to_datetime('2018-05-28') - pd.Timedelta(days=15))]"
   ]
  },
  {
   "cell_type": "code",
   "execution_count": 170,
   "metadata": {},
   "outputs": [
    {
     "data": {
      "text/plain": [
       "((454224, 8),\n",
       " 26736,\n",
       " Timestamp('2018-05-27 23:59:23.729000'),\n",
       " Timestamp('2018-05-13 00:00:07'))"
      ]
     },
     "execution_count": 170,
     "metadata": {},
     "output_type": "execute_result"
    }
   ],
   "source": [
    "last15.shape,last15['UserID'].nunique(),last15['NewVisit'].max(),last15['NewVisit'].min()"
   ]
  },
  {
   "cell_type": "code",
   "execution_count": 171,
   "metadata": {},
   "outputs": [
    {
     "data": {
      "text/plain": [
       "Index(['webClientID', 'VisitDateTime', 'ProductID', 'UserID', 'Activity', 'OS',\n",
       "       'Signup Date', 'NewVisit'],\n",
       "      dtype='object')"
      ]
     },
     "execution_count": 171,
     "metadata": {},
     "output_type": "execute_result"
    }
   ],
   "source": [
    "last15.columns"
   ]
  },
  {
   "cell_type": "code",
   "execution_count": 172,
   "metadata": {},
   "outputs": [],
   "source": [
    "NumberOfProductviewed15=last15.groupby('UserID')['ProductID'].nunique().reset_index()\n",
    "NumberOfProductviewed15.rename(columns={'ProductID':'No_Of_Products_Viewed_15_Days'},inplace=True)"
   ]
  },
  {
   "cell_type": "code",
   "execution_count": 173,
   "metadata": {},
   "outputs": [],
   "source": [
    "NumberOfProductviewed15dict=dict(zip(NumberOfProductviewed15['UserID'],\n",
    "                                     NumberOfProductviewed15['No_Of_Products_Viewed_15_Days']))"
   ]
  },
  {
   "cell_type": "code",
   "execution_count": 174,
   "metadata": {},
   "outputs": [],
   "source": [
    "submission['No_Of_Products_Viewed_15_Days']=submission['UserID'].map(NumberOfProductviewed15dict)"
   ]
  },
  {
   "cell_type": "code",
   "execution_count": 175,
   "metadata": {},
   "outputs": [],
   "source": [
    "submission['No_Of_Products_Viewed_15_Days'].fillna(0,inplace=True)"
   ]
  },
  {
   "cell_type": "markdown",
   "metadata": {},
   "source": [
    "##### User_Vintage\n",
    "Vintage (In Days) of the user as of today"
   ]
  },
  {
   "cell_type": "code",
   "execution_count": 176,
   "metadata": {},
   "outputs": [],
   "source": [
    "date_time_str = '18/05/28'\n",
    "date_time_obj = datetime.strptime(date_time_str, '%y/%m/%d')"
   ]
  },
  {
   "cell_type": "code",
   "execution_count": 177,
   "metadata": {},
   "outputs": [],
   "source": [
    "data['Vintage']=date_time_obj-data['Signup Date']"
   ]
  },
  {
   "cell_type": "code",
   "execution_count": 178,
   "metadata": {},
   "outputs": [],
   "source": [
    "vintagedict=dict(zip(data['UserID'],data['Vintage']))"
   ]
  },
  {
   "cell_type": "code",
   "execution_count": 179,
   "metadata": {},
   "outputs": [],
   "source": [
    "submission['Vintage']=submission['UserID'].map(vintagedict)"
   ]
  },
  {
   "cell_type": "markdown",
   "metadata": {},
   "source": [
    "##### Most_Viewed_product_15_Days\n",
    "Most frequently viewed (page loads) product by the user in the last 15 days. If there are multiple products that have a similar number of page loads then , consider the recent one. \n",
    "If a user has not viewed any product in the last 15 days then put it as Product101. "
   ]
  },
  {
   "cell_type": "code",
   "execution_count": 181,
   "metadata": {},
   "outputs": [],
   "source": [
    "pageload=last15[last15['Activity']=='pageload']"
   ]
  },
  {
   "cell_type": "code",
   "execution_count": 218,
   "metadata": {},
   "outputs": [],
   "source": [
    "temp_most_viewd = pageload[['UserID','ProductID','Activity']].groupby(['UserID','ProductID'])['Activity'].count().reset_index()"
   ]
  },
  {
   "cell_type": "code",
   "execution_count": 224,
   "metadata": {},
   "outputs": [],
   "source": [
    "#most viewed product\n",
    "\n",
    "most_viewd_15=temp_most_viewd.iloc[temp_most_viewd.groupby('UserID').apply(lambda x: x['Activity'].idxmax())]\n"
   ]
  },
  {
   "cell_type": "code",
   "execution_count": 227,
   "metadata": {},
   "outputs": [],
   "source": [
    "most_viewd_15dict=dict(zip(most_viewd_15['UserID'],most_viewd_15['ProductID']))"
   ]
  },
  {
   "cell_type": "code",
   "execution_count": 229,
   "metadata": {},
   "outputs": [],
   "source": [
    "submission['Most_Viewed_product_15_Days']=submission['UserID'].map(most_viewd_15dict)"
   ]
  },
  {
   "cell_type": "code",
   "execution_count": 231,
   "metadata": {},
   "outputs": [],
   "source": [
    "submission['Most_Viewed_product_15_Days'].fillna('Product101',inplace=True)"
   ]
  },
  {
   "cell_type": "markdown",
   "metadata": {},
   "source": [
    "##### Most_Active_OS\n",
    "Most Frequently used OS by user."
   ]
  },
  {
   "cell_type": "code",
   "execution_count": 233,
   "metadata": {},
   "outputs": [],
   "source": [
    "active_os=data.groupby(['UserID','OS']).count()['webClientID'].reset_index()"
   ]
  },
  {
   "cell_type": "code",
   "execution_count": 235,
   "metadata": {},
   "outputs": [],
   "source": [
    "active_os.sort_values('webClientID',inplace=True)"
   ]
  },
  {
   "cell_type": "code",
   "execution_count": 237,
   "metadata": {},
   "outputs": [],
   "source": [
    "active_os.drop_duplicates('UserID',keep='last',inplace=True)"
   ]
  },
  {
   "cell_type": "code",
   "execution_count": 239,
   "metadata": {},
   "outputs": [],
   "source": [
    "active_os.rename(columns={'OS':'Most_Active_OS'},inplace=True)"
   ]
  },
  {
   "cell_type": "code",
   "execution_count": 240,
   "metadata": {},
   "outputs": [],
   "source": [
    "active_osdict=dict(zip(active_os['UserID'],active_os['Most_Active_OS']))"
   ]
  },
  {
   "cell_type": "code",
   "execution_count": 241,
   "metadata": {},
   "outputs": [],
   "source": [
    "submission['Most_Active_OS']=submission['UserID'].map(active_osdict)"
   ]
  },
  {
   "cell_type": "markdown",
   "metadata": {},
   "source": [
    "##### Recently_Viewed_Product\n",
    "Most recently viewed (page loads) product by the user.\n",
    "If a user has not viewed any product then put it as Product101."
   ]
  },
  {
   "cell_type": "code",
   "execution_count": 243,
   "metadata": {},
   "outputs": [],
   "source": [
    "recentlyviewdata=data[data['Activity']=='pageload']\n",
    "Recentlyviewed=recentlyviewdata.groupby(['UserID','ProductID','NewVisit']).count().reset_index()\n",
    "Recentlyviewed=Recentlyviewed[['UserID','ProductID','NewVisit']]\n",
    "Recentlyviewed.sort_values('NewVisit',inplace=True)\n",
    "Recentlyviewed.drop_duplicates('UserID',keep='last',inplace=True)"
   ]
  },
  {
   "cell_type": "code",
   "execution_count": 245,
   "metadata": {},
   "outputs": [],
   "source": [
    "Recentlyviewed.fillna('Product101',inplace=True)"
   ]
  },
  {
   "cell_type": "code",
   "execution_count": 247,
   "metadata": {},
   "outputs": [],
   "source": [
    "Recentlyvieweddict=dict(zip(Recentlyviewed['UserID'],Recentlyviewed['ProductID']))"
   ]
  },
  {
   "cell_type": "code",
   "execution_count": 248,
   "metadata": {},
   "outputs": [],
   "source": [
    "submission['Recently_Viewed_Product']=submission['UserID'].map(Recentlyvieweddict)"
   ]
  },
  {
   "cell_type": "code",
   "execution_count": 250,
   "metadata": {},
   "outputs": [],
   "source": [
    "submission.fillna('Product101',inplace=True)"
   ]
  },
  {
   "cell_type": "markdown",
   "metadata": {},
   "source": [
    "##### Pageloads_last_7_days\n",
    "Count of Page loads in the last 7 days by the user"
   ]
  },
  {
   "cell_type": "code",
   "execution_count": 263,
   "metadata": {},
   "outputs": [],
   "source": [
    "last_seven_days_pageload=last_seven_days[last_seven_days['Activity']=='pageload'].groupby('UserID').count()['Activity'].reset_index()\n",
    "last_seven_days_pageload_dict=dict(zip(last_seven_days_pageload['UserID'],last_seven_days_pageload['Activity']))\n",
    "submission['Pageloads_last_7_days']=submission['UserID'].map(last_seven_days_pageload_dict)"
   ]
  },
  {
   "cell_type": "code",
   "execution_count": 266,
   "metadata": {},
   "outputs": [],
   "source": [
    "submission['Pageloads_last_7_days'].fillna(0,inplace=True)"
   ]
  },
  {
   "cell_type": "markdown",
   "metadata": {},
   "source": [
    "##### Clicks_last_7_days\n",
    "Count of Clicks in the last 7 days  by the user"
   ]
  },
  {
   "cell_type": "code",
   "execution_count": 268,
   "metadata": {},
   "outputs": [],
   "source": [
    "last_seven_days_click=last_seven_days[last_seven_days['Activity']=='click'].groupby('UserID').count()['Activity'].reset_index()\n",
    "last_seven_days_click_dict=dict(zip(last_seven_days_click['UserID'],last_seven_days_click['Activity']))\n",
    "submission['Clicks_last_7_days']=submission['UserID'].map(last_seven_days_pageload_dict)"
   ]
  },
  {
   "cell_type": "code",
   "execution_count": 269,
   "metadata": {},
   "outputs": [],
   "source": [
    "submission['Clicks_last_7_days'].fillna(0,inplace=True)"
   ]
  },
  {
   "cell_type": "code",
   "execution_count": 272,
   "metadata": {},
   "outputs": [],
   "source": [
    "submission['No_of_days_Visited_7_Days']=submission['No_of_days_Visited_7_Days'].astype('int64')\n",
    "submission['No_Of_Products_Viewed_15_Days']=submission['No_Of_Products_Viewed_15_Days'].astype('int64')\n",
    "submission['Pageloads_last_7_days']=submission['Pageloads_last_7_days'].astype('int64')\n",
    "submission['Clicks_last_7_days']=submission['Clicks_last_7_days'].astype('int64')\n",
    "submission['Vintage']=pd.to_numeric(submission['Vintage'].dt.days)"
   ]
  },
  {
   "cell_type": "code",
   "execution_count": 275,
   "metadata": {},
   "outputs": [],
   "source": [
    "submission.sort_values('UserID',inplace=True)"
   ]
  },
  {
   "cell_type": "code",
   "execution_count": 278,
   "metadata": {},
   "outputs": [],
   "source": [
    "submission.to_csv(\"FinalSubmission.csv\",index=False,\n",
    "                 header=submission.columns)"
   ]
  },
  {
   "cell_type": "code",
   "execution_count": 279,
   "metadata": {},
   "outputs": [
    {
     "data": {
      "text/html": [
       "<div>\n",
       "<style scoped>\n",
       "    .dataframe tbody tr th:only-of-type {\n",
       "        vertical-align: middle;\n",
       "    }\n",
       "\n",
       "    .dataframe tbody tr th {\n",
       "        vertical-align: top;\n",
       "    }\n",
       "\n",
       "    .dataframe thead th {\n",
       "        text-align: right;\n",
       "    }\n",
       "</style>\n",
       "<table border=\"1\" class=\"dataframe\">\n",
       "  <thead>\n",
       "    <tr style=\"text-align: right;\">\n",
       "      <th></th>\n",
       "      <th>UserID</th>\n",
       "      <th>No_of_days_Visited_7_Days</th>\n",
       "      <th>No_Of_Products_Viewed_15_Days</th>\n",
       "      <th>Vintage</th>\n",
       "      <th>Most_Viewed_product_15_Days</th>\n",
       "      <th>Most_Active_OS</th>\n",
       "      <th>Recently_Viewed_Product</th>\n",
       "      <th>Pageloads_last_7_days</th>\n",
       "      <th>Clicks_last_7_days</th>\n",
       "    </tr>\n",
       "  </thead>\n",
       "  <tbody>\n",
       "    <tr>\n",
       "      <th>10521</th>\n",
       "      <td>U100002</td>\n",
       "      <td>0</td>\n",
       "      <td>2</td>\n",
       "      <td>53</td>\n",
       "      <td>pr100258</td>\n",
       "      <td>android</td>\n",
       "      <td>pr100258</td>\n",
       "      <td>0</td>\n",
       "      <td>0</td>\n",
       "    </tr>\n",
       "    <tr>\n",
       "      <th>11974</th>\n",
       "      <td>U100003</td>\n",
       "      <td>3</td>\n",
       "      <td>3</td>\n",
       "      <td>1021</td>\n",
       "      <td>pr100079</td>\n",
       "      <td>windows</td>\n",
       "      <td>pr100079</td>\n",
       "      <td>1</td>\n",
       "      <td>1</td>\n",
       "    </tr>\n",
       "    <tr>\n",
       "      <th>5037</th>\n",
       "      <td>U100004</td>\n",
       "      <td>1</td>\n",
       "      <td>15</td>\n",
       "      <td>341</td>\n",
       "      <td>pr100311</td>\n",
       "      <td>windows</td>\n",
       "      <td>pr100311</td>\n",
       "      <td>1</td>\n",
       "      <td>1</td>\n",
       "    </tr>\n",
       "    <tr>\n",
       "      <th>21202</th>\n",
       "      <td>U100005</td>\n",
       "      <td>2</td>\n",
       "      <td>3</td>\n",
       "      <td>681</td>\n",
       "      <td>pr100234</td>\n",
       "      <td>android</td>\n",
       "      <td>pr100234</td>\n",
       "      <td>1</td>\n",
       "      <td>1</td>\n",
       "    </tr>\n",
       "    <tr>\n",
       "      <th>33746</th>\n",
       "      <td>U100006</td>\n",
       "      <td>1</td>\n",
       "      <td>1</td>\n",
       "      <td>55</td>\n",
       "      <td>pr101111</td>\n",
       "      <td>android</td>\n",
       "      <td>pr101111</td>\n",
       "      <td>1</td>\n",
       "      <td>1</td>\n",
       "    </tr>\n",
       "    <tr>\n",
       "      <th>...</th>\n",
       "      <td>...</td>\n",
       "      <td>...</td>\n",
       "      <td>...</td>\n",
       "      <td>...</td>\n",
       "      <td>...</td>\n",
       "      <td>...</td>\n",
       "      <td>...</td>\n",
       "      <td>...</td>\n",
       "      <td>...</td>\n",
       "    </tr>\n",
       "    <tr>\n",
       "      <th>33897</th>\n",
       "      <td>U136960</td>\n",
       "      <td>0</td>\n",
       "      <td>0</td>\n",
       "      <td>755</td>\n",
       "      <td>Product101</td>\n",
       "      <td>windows</td>\n",
       "      <td>Product101</td>\n",
       "      <td>0</td>\n",
       "      <td>0</td>\n",
       "    </tr>\n",
       "    <tr>\n",
       "      <th>32513</th>\n",
       "      <td>U136961</td>\n",
       "      <td>0</td>\n",
       "      <td>0</td>\n",
       "      <td>60</td>\n",
       "      <td>Product101</td>\n",
       "      <td>android</td>\n",
       "      <td>pr101381</td>\n",
       "      <td>0</td>\n",
       "      <td>0</td>\n",
       "    </tr>\n",
       "    <tr>\n",
       "      <th>11706</th>\n",
       "      <td>U136963</td>\n",
       "      <td>1</td>\n",
       "      <td>1</td>\n",
       "      <td>1420</td>\n",
       "      <td>Product101</td>\n",
       "      <td>android</td>\n",
       "      <td>pr100166</td>\n",
       "      <td>0</td>\n",
       "      <td>0</td>\n",
       "    </tr>\n",
       "    <tr>\n",
       "      <th>33830</th>\n",
       "      <td>U136964</td>\n",
       "      <td>0</td>\n",
       "      <td>0</td>\n",
       "      <td>495</td>\n",
       "      <td>Product101</td>\n",
       "      <td>windows</td>\n",
       "      <td>Product101</td>\n",
       "      <td>0</td>\n",
       "      <td>0</td>\n",
       "    </tr>\n",
       "    <tr>\n",
       "      <th>28493</th>\n",
       "      <td>U136965</td>\n",
       "      <td>0</td>\n",
       "      <td>0</td>\n",
       "      <td>243</td>\n",
       "      <td>Product101</td>\n",
       "      <td>android</td>\n",
       "      <td>pr100709</td>\n",
       "      <td>0</td>\n",
       "      <td>0</td>\n",
       "    </tr>\n",
       "  </tbody>\n",
       "</table>\n",
       "<p>34050 rows × 9 columns</p>\n",
       "</div>"
      ],
      "text/plain": [
       "        UserID  No_of_days_Visited_7_Days  No_Of_Products_Viewed_15_Days  \\\n",
       "10521  U100002                          0                              2   \n",
       "11974  U100003                          3                              3   \n",
       "5037   U100004                          1                             15   \n",
       "21202  U100005                          2                              3   \n",
       "33746  U100006                          1                              1   \n",
       "...        ...                        ...                            ...   \n",
       "33897  U136960                          0                              0   \n",
       "32513  U136961                          0                              0   \n",
       "11706  U136963                          1                              1   \n",
       "33830  U136964                          0                              0   \n",
       "28493  U136965                          0                              0   \n",
       "\n",
       "       Vintage Most_Viewed_product_15_Days Most_Active_OS  \\\n",
       "10521       53                    pr100258        android   \n",
       "11974     1021                    pr100079        windows   \n",
       "5037       341                    pr100311        windows   \n",
       "21202      681                    pr100234        android   \n",
       "33746       55                    pr101111        android   \n",
       "...        ...                         ...            ...   \n",
       "33897      755                  Product101        windows   \n",
       "32513       60                  Product101        android   \n",
       "11706     1420                  Product101        android   \n",
       "33830      495                  Product101        windows   \n",
       "28493      243                  Product101        android   \n",
       "\n",
       "      Recently_Viewed_Product  Pageloads_last_7_days  Clicks_last_7_days  \n",
       "10521                pr100258                      0                   0  \n",
       "11974                pr100079                      1                   1  \n",
       "5037                 pr100311                      1                   1  \n",
       "21202                pr100234                      1                   1  \n",
       "33746                pr101111                      1                   1  \n",
       "...                       ...                    ...                 ...  \n",
       "33897              Product101                      0                   0  \n",
       "32513                pr101381                      0                   0  \n",
       "11706                pr100166                      0                   0  \n",
       "33830              Product101                      0                   0  \n",
       "28493                pr100709                      0                   0  \n",
       "\n",
       "[34050 rows x 9 columns]"
      ]
     },
     "execution_count": 279,
     "metadata": {},
     "output_type": "execute_result"
    }
   ],
   "source": [
    "submission"
   ]
  }
 ],
 "metadata": {
  "kernelspec": {
   "display_name": "Python 3",
   "language": "python",
   "name": "python3"
  },
  "language_info": {
   "codemirror_mode": {
    "name": "ipython",
    "version": 3
   },
   "file_extension": ".py",
   "mimetype": "text/x-python",
   "name": "python",
   "nbconvert_exporter": "python",
   "pygments_lexer": "ipython3",
   "version": "3.7.3"
  }
 },
 "nbformat": 4,
 "nbformat_minor": 2
}
